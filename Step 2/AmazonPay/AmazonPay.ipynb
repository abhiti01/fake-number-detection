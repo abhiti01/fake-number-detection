{
 "cells": [
  {
   "cell_type": "code",
   "execution_count": 15,
   "id": "51786ea0",
   "metadata": {},
   "outputs": [],
   "source": [
    "import numpy as np\n",
    "import pandas as pd\n",
    "import re\n",
    "import math"
   ]
  },
  {
   "cell_type": "code",
   "execution_count": 16,
   "id": "71f29b43",
   "metadata": {},
   "outputs": [],
   "source": [
    "df = pd.read_csv('AmazonPay3.csv')"
   ]
  },
  {
   "cell_type": "markdown",
   "id": "484503b2",
   "metadata": {},
   "source": [
    "#Normalize data, drop tweets that contain order ids, reference numbers, and complaint numbers"
   ]
  },
  {
   "cell_type": "code",
   "execution_count": 17,
   "id": "9380474e",
   "metadata": {},
   "outputs": [],
   "source": [
    "df.Text = df['Text'].str.lower()\n",
    "df_temp = df.drop(df[df.Text.str.contains('order')].index)\n",
    "df_temp = df_temp.drop(df_temp[df_temp.Text.str.contains('ref')].index)\n",
    "df_filtered = df_temp.drop(df_temp[df_temp.Text.str.contains('complaint no')].index)"
   ]
  },
  {
   "cell_type": "code",
   "execution_count": 18,
   "id": "a181c3af",
   "metadata": {},
   "outputs": [
    {
     "data": {
      "text/plain": [
       "(168, 7)"
      ]
     },
     "execution_count": 18,
     "metadata": {},
     "output_type": "execute_result"
    }
   ],
   "source": [
    "df_filtered.shape"
   ]
  },
  {
   "cell_type": "code",
   "execution_count": 19,
   "id": "40abf45c",
   "metadata": {},
   "outputs": [],
   "source": [
    "col_list =[\"Text\"]\n",
    "numbers = []\n",
    "for index,row in df_filtered['Text'].iteritems():\n",
    "    numbers.append(re.findall(r'\\d{10}',str(row)))"
   ]
  },
  {
   "cell_type": "markdown",
   "id": "80321327",
   "metadata": {},
   "source": [
    "#make a dictionary for scanned numbers so that numbers that appear more than once have an increased score"
   ]
  },
  {
   "cell_type": "code",
   "execution_count": 20,
   "id": "e8a9ae74",
   "metadata": {},
   "outputs": [],
   "source": [
    "numbers_scanned = {}"
   ]
  },
  {
   "cell_type": "code",
   "execution_count": 21,
   "id": "f520a505",
   "metadata": {},
   "outputs": [],
   "source": [
    "for s in numbers:\n",
    "    for j in s:\n",
    "        if int(j)>6000000000:\n",
    "            if j in numbers_scanned:\n",
    "                numbers_scanned[j]+=1\n",
    "            else:\n",
    "                numbers_scanned[j] = 1"
   ]
  },
  {
   "cell_type": "code",
   "execution_count": 22,
   "id": "e2095e22",
   "metadata": {},
   "outputs": [
    {
     "name": "stdout",
     "output_type": "stream",
     "text": [
      "{'9883825160': 54, '9414431349': 1, '9126362188': 1, '8201919360': 1, '6014854711': 1, '9042669091': 1, '8319895945': 3, '9323029393': 1, '8201913795': 1, '8201917631': 1, '8201917620': 1, '8201916777': 1, '8201915315': 1, '6357000145': 2, '8201914435': 1, '8602062739': 1, '8201913662': 1, '9410832123': 5, '8201910780': 1, '8800561110': 1, '9910920899': 1, '8201912420': 2, '8201908853': 1, '8201912562': 1, '9063388404': 1, '8201910893': 1, '8201910106': 1, '7038837237': 1, '9813833298': 1, '8201909716': 1, '8201910604': 8, '9500515507': 1, '9641396199': 1, '8201909313': 1, '8514948806': 1, '9404685034': 1, '8690016166': 1, '9999781506': 1, '9419181965': 1, '8294842724': 81, '8597857956': 37, '9080782927': 1, '9039112181': 1, '7524802317': 1, '8977186144': 1, '9931119848': 3, '8201904587': 1, '9967646355': 1, '8201902366': 1, '8201902483': 1, '9883322075': 18, '8389862296': 15, '7865872004': 15, '7860788671': 1, '8101919119': 1, '9818206738': 1, '8201901984': 1, '7988974016': 1, '6202278073': 4, '9875331783': 8, '9950170565': 1, '7000108783': 1, '8201901316': 1, '8201900024': 1, '9654276981': 1, '7808155499': 1, '7708973661': 1, '7975866588': 1, '7675921421': 1, '7351593906': 1, '9330340020': 6, '9113761215': 6, '7876613890': 1, '9173140824': 1, '9196230758': 1, '9556252474': 1, '7303099693': 1, '9492065995': 1, '8201900288': 1, '8201900166': 1, '9555522786': 1, '8052524335': 1, '9427214876': 1, '9830213257': 1, '7619910567': 1, '7619910560': 1, '8237320942': 1, '7094721040': 1, '9845041314': 1, '9686190261': 1, '7984531148': 1, '7008557795': 1, '8328550972': 1}\n"
     ]
    }
   ],
   "source": [
    "print(numbers_scanned)"
   ]
  },
  {
   "cell_type": "code",
   "execution_count": 23,
   "id": "42a8b163",
   "metadata": {},
   "outputs": [],
   "source": [
    "res = 0\n",
    "for val in numbers_scanned.values():\n",
    "    res += val\n",
    "\n",
    "res = res / len(numbers_scanned)"
   ]
  },
  {
   "cell_type": "markdown",
   "id": "3774379b",
   "metadata": {},
   "source": [
    "#K is the average of how many times a number appears, based on that classify numbers as flagged or not"
   ]
  },
  {
   "cell_type": "code",
   "execution_count": 24,
   "id": "e54dfec1",
   "metadata": {},
   "outputs": [],
   "source": [
    "res = math.floor(res)"
   ]
  },
  {
   "cell_type": "code",
   "execution_count": 25,
   "id": "6eb62783",
   "metadata": {},
   "outputs": [],
   "source": [
    "flagged_numbers = [k for k in numbers_scanned if numbers_scanned[k] >= res]"
   ]
  },
  {
   "cell_type": "code",
   "execution_count": 26,
   "id": "08b1726b",
   "metadata": {},
   "outputs": [
    {
     "name": "stdout",
     "output_type": "stream",
     "text": [
      "['9883825160', '8319895945', '9410832123', '8201910604', '8294842724', '8597857956', '9931119848', '9883322075', '8389862296', '7865872004', '6202278073', '9875331783', '9330340020', '9113761215']\n"
     ]
    }
   ],
   "source": [
    "print(flagged_numbers)"
   ]
  },
  {
   "cell_type": "code",
   "execution_count": 31,
   "id": "eb6ceee4",
   "metadata": {},
   "outputs": [
    {
     "name": "stdout",
     "output_type": "stream",
     "text": [
      "14\n"
     ]
    }
   ],
   "source": [
    "print(len(flagged_numbers))"
   ]
  },
  {
   "cell_type": "markdown",
   "id": "ef767148",
   "metadata": {},
   "source": [
    "#Since Amazon pay has no numbers affiliated with them, this array is empty"
   ]
  },
  {
   "cell_type": "code",
   "execution_count": 27,
   "id": "a50b70c4",
   "metadata": {},
   "outputs": [],
   "source": [
    "AmazonPay_numbers = []"
   ]
  },
  {
   "cell_type": "code",
   "execution_count": 28,
   "id": "9d5c290e",
   "metadata": {},
   "outputs": [],
   "source": [
    "for number in AmazonPay_numbers:\n",
    "    if number in flagged_numbers:\n",
    "        flagged_numbers.remove(number)\n"
   ]
  },
  {
   "cell_type": "markdown",
   "id": "1b85908a",
   "metadata": {},
   "source": [
    "#Sort the numbers by the number of followers they got posted by (lowest follower = higher chance of being fake)"
   ]
  },
  {
   "cell_type": "code",
   "execution_count": 29,
   "id": "61e5a8d3",
   "metadata": {},
   "outputs": [],
   "source": [
    "found = False\n",
    "for row in df.itertuples():\n",
    "    found = False\n",
    "    Tweet = str(row.Text)\n",
    "    for num in flagged_numbers:\n",
    "        if num in Tweet:\n",
    "            found = True\n",
    "    if not found:\n",
    "        df = df.drop([row.Index])"
   ]
  },
  {
   "cell_type": "code",
   "execution_count": 30,
   "id": "58cbada7",
   "metadata": {},
   "outputs": [],
   "source": [
    "df.to_csv('FraudAmazonPay.csv', sep=',')"
   ]
  },
  {
   "cell_type": "code",
   "execution_count": null,
   "id": "9f7c5ae4",
   "metadata": {},
   "outputs": [],
   "source": []
  }
 ],
 "metadata": {
  "kernelspec": {
   "display_name": "Python 3 (ipykernel)",
   "language": "python",
   "name": "python3"
  },
  "language_info": {
   "codemirror_mode": {
    "name": "ipython",
    "version": 3
   },
   "file_extension": ".py",
   "mimetype": "text/x-python",
   "name": "python",
   "nbconvert_exporter": "python",
   "pygments_lexer": "ipython3",
   "version": "3.9.9"
  }
 },
 "nbformat": 4,
 "nbformat_minor": 5
}
