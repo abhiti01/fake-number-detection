{
 "cells": [
  {
   "cell_type": "code",
   "execution_count": 1,
   "id": "050e6549",
   "metadata": {},
   "outputs": [],
   "source": [
    "import numpy as np\n",
    "import pandas as pd\n",
    "import re\n",
    "import math"
   ]
  },
  {
   "cell_type": "code",
   "execution_count": 2,
   "id": "216a53f1",
   "metadata": {},
   "outputs": [],
   "source": [
    "df = pd.read_csv('Paytm3.csv')"
   ]
  },
  {
   "cell_type": "code",
   "execution_count": 3,
   "id": "423afb42",
   "metadata": {},
   "outputs": [],
   "source": [
    "df.Text = df['Text'].str.lower()\n",
    "df_temp = df.drop(df[df.Text.str.contains('order')].index)\n",
    "df_temp = df_temp.drop(df_temp[df_temp.Text.str.contains('ref')].index)\n",
    "df_filtered = df_temp.drop(df_temp[df_temp.Text.str.contains('complaint no')].index)"
   ]
  },
  {
   "cell_type": "code",
   "execution_count": 4,
   "id": "7300cde8",
   "metadata": {},
   "outputs": [
    {
     "data": {
      "text/plain": [
       "(121, 7)"
      ]
     },
     "execution_count": 4,
     "metadata": {},
     "output_type": "execute_result"
    }
   ],
   "source": [
    "df_filtered.shape"
   ]
  },
  {
   "cell_type": "code",
   "execution_count": 5,
   "id": "1d757db4",
   "metadata": {},
   "outputs": [],
   "source": [
    "col_list =[\"Text\"]\n",
    "numbers = []\n",
    "for index,row in df_filtered['Text'].iteritems():\n",
    "    numbers.append(re.findall(r'\\d{10}',str(row)))"
   ]
  },
  {
   "cell_type": "code",
   "execution_count": 6,
   "id": "4a107c4a",
   "metadata": {},
   "outputs": [],
   "source": [
    "numbers_scanned = {}"
   ]
  },
  {
   "cell_type": "code",
   "execution_count": 7,
   "id": "67e2a0bc",
   "metadata": {},
   "outputs": [],
   "source": [
    "for s in numbers:\n",
    "    for j in s:\n",
    "        if int(j)>6000000000:\n",
    "            if j in numbers_scanned:\n",
    "                numbers_scanned[j]+=1\n",
    "            else:\n",
    "                numbers_scanned[j] = 1"
   ]
  },
  {
   "cell_type": "code",
   "execution_count": 8,
   "id": "77c0f4c9",
   "metadata": {},
   "outputs": [
    {
     "name": "stdout",
     "output_type": "stream",
     "text": [
      "{'7872478724': 2, '9184518531': 1, '9437365463': 1, '9173817192': 1, '6392402162': 1, '9743444053': 1, '9953082198': 1, '9339451748': 1, '6352408064': 1, '9861305543': 1, '9827873869': 1, '9739906665': 1, '7045729283': 1, '8778235114': 1, '9582226639': 1, '9560190149': 1, '9883915047': 1, '9599965182': 1, '7203826312': 1, '7719558031': 1, '9517186569': 3, '9692347119': 1, '9902066838': 1, '7908254751': 1, '8015838586': 1, '8802655723': 1, '9911054940': 1, '9995020392': 1, '9045560977': 1, '8587859859': 1, '7318844196': 1, '9999350563': 1, '9170062830': 1, '9810453324': 1, '7999799546': 1, '6290321855': 1, '7503889646': 1, '8447912649': 1, '7506470063': 1, '7024116259': 1, '9195753658': 1, '7982772562': 1, '7294937263': 1, '6009695690': 1, '9910920899': 1, '7300188973': 1, '8882555444': 1, '9929609905': 1, '7889582437': 1, '9196516622': 1, '6364518989': 1, '9828538077': 1, '9144972863': 1, '9125700773': 1, '9776553645': 1, '9863335105': 1, '8840663607': 1, '8767301333': 1, '9191379449': 12, '9198839996': 1, '7004163044': 1, '6291670660': 1, '9515235665': 1, '9568173238': 1, '6006685569': 1, '9910426822': 2, '9144410479': 1, '9870948282': 1, '9041555551': 1, '7908432923': 1, '8250134541': 1}\n"
     ]
    }
   ],
   "source": [
    "print(numbers_scanned)"
   ]
  },
  {
   "cell_type": "code",
   "execution_count": 9,
   "id": "3e9b200b",
   "metadata": {},
   "outputs": [],
   "source": [
    "res = 0\n",
    "for val in numbers_scanned.values():\n",
    "    res += val\n",
    "\n",
    "res = res / len(numbers_scanned)"
   ]
  },
  {
   "cell_type": "code",
   "execution_count": 10,
   "id": "fb1dec93",
   "metadata": {},
   "outputs": [],
   "source": [
    "res = math.floor(res)"
   ]
  },
  {
   "cell_type": "code",
   "execution_count": 11,
   "id": "fc931137",
   "metadata": {},
   "outputs": [],
   "source": [
    "flagged_numbers = [k for k in numbers_scanned if numbers_scanned[k] >= res]"
   ]
  },
  {
   "cell_type": "code",
   "execution_count": 12,
   "id": "c45deb60",
   "metadata": {},
   "outputs": [
    {
     "name": "stdout",
     "output_type": "stream",
     "text": [
      "['7872478724', '9184518531', '9437365463', '9173817192', '6392402162', '9743444053', '9953082198', '9339451748', '6352408064', '9861305543', '9827873869', '9739906665', '7045729283', '8778235114', '9582226639', '9560190149', '9883915047', '9599965182', '7203826312', '7719558031', '9517186569', '9692347119', '9902066838', '7908254751', '8015838586', '8802655723', '9911054940', '9995020392', '9045560977', '8587859859', '7318844196', '9999350563', '9170062830', '9810453324', '7999799546', '6290321855', '7503889646', '8447912649', '7506470063', '7024116259', '9195753658', '7982772562', '7294937263', '6009695690', '9910920899', '7300188973', '8882555444', '9929609905', '7889582437', '9196516622', '6364518989', '9828538077', '9144972863', '9125700773', '9776553645', '9863335105', '8840663607', '8767301333', '9191379449', '9198839996', '7004163044', '6291670660', '9515235665', '9568173238', '6006685569', '9910426822', '9144410479', '9870948282', '9041555551', '7908432923', '8250134541']\n"
     ]
    }
   ],
   "source": [
    "print(flagged_numbers)"
   ]
  },
  {
   "cell_type": "code",
   "execution_count": 17,
   "id": "9368eeb3",
   "metadata": {},
   "outputs": [
    {
     "name": "stdout",
     "output_type": "stream",
     "text": [
      "71\n"
     ]
    }
   ],
   "source": [
    "print(len(flagged_numbers))"
   ]
  },
  {
   "cell_type": "code",
   "execution_count": 13,
   "id": "8484a20f",
   "metadata": {},
   "outputs": [],
   "source": [
    "Paytm_numbers = []"
   ]
  },
  {
   "cell_type": "code",
   "execution_count": 14,
   "id": "33b391a5",
   "metadata": {},
   "outputs": [],
   "source": [
    "for number in Paytm_numbers:\n",
    "    if number in flagged_numbers:\n",
    "        flagged_numbers.remove(number)\n"
   ]
  },
  {
   "cell_type": "code",
   "execution_count": 15,
   "id": "e92a0579",
   "metadata": {},
   "outputs": [],
   "source": [
    "found = False\n",
    "for row in df.itertuples():\n",
    "    found = False\n",
    "    Tweet = str(row.Text)\n",
    "    for num in flagged_numbers:\n",
    "        if num in Tweet:\n",
    "            found = True\n",
    "    if not found:\n",
    "        df = df.drop([row.Index])"
   ]
  },
  {
   "cell_type": "code",
   "execution_count": 16,
   "id": "c5993a73",
   "metadata": {},
   "outputs": [],
   "source": [
    "df.to_csv('FraudPaytm.csv', sep=',')"
   ]
  },
  {
   "cell_type": "code",
   "execution_count": null,
   "id": "51dc0580",
   "metadata": {},
   "outputs": [],
   "source": []
  }
 ],
 "metadata": {
  "kernelspec": {
   "display_name": "Python 3 (ipykernel)",
   "language": "python",
   "name": "python3"
  },
  "language_info": {
   "codemirror_mode": {
    "name": "ipython",
    "version": 3
   },
   "file_extension": ".py",
   "mimetype": "text/x-python",
   "name": "python",
   "nbconvert_exporter": "python",
   "pygments_lexer": "ipython3",
   "version": "3.9.9"
  }
 },
 "nbformat": 4,
 "nbformat_minor": 5
}
